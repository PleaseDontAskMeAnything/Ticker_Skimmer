{
 "cells": [
  {
   "cell_type": "code",
   "execution_count": 5,
   "metadata": {},
   "outputs": [
    {
     "ename": "ModuleNotFoundError",
     "evalue": "No module named 'config'",
     "output_type": "error",
     "traceback": [
      "\u001b[0;31m---------------------------------------------------------------------------\u001b[0m",
      "\u001b[0;31mModuleNotFoundError\u001b[0m                       Traceback (most recent call last)",
      "Cell \u001b[0;32mIn[5], line 3\u001b[0m\n\u001b[1;32m      1\u001b[0m \u001b[38;5;28;01mimport\u001b[39;00m \u001b[38;5;21;01mrequests\u001b[39;00m\n\u001b[1;32m      2\u001b[0m \u001b[38;5;28;01mfrom\u001b[39;00m \u001b[38;5;21;01mspot\u001b[39;00m \u001b[38;5;28;01mimport\u001b[39;00m \u001b[38;5;241m*\u001b[39m\n\u001b[0;32m----> 3\u001b[0m \u001b[38;5;28;01mfrom\u001b[39;00m \u001b[38;5;21;01mconfig\u001b[39;00m \u001b[38;5;28;01mimport\u001b[39;00m \u001b[38;5;241m*\u001b[39m\n\u001b[1;32m      4\u001b[0m \u001b[38;5;28;01mimport\u001b[39;00m \u001b[38;5;21;01mpprint\u001b[39;00m\n\u001b[1;32m      5\u001b[0m \u001b[38;5;28;01mimport\u001b[39;00m \u001b[38;5;21;01mpraw\u001b[39;00m\n",
      "\u001b[0;31mModuleNotFoundError\u001b[0m: No module named 'config'"
     ]
    }
   ],
   "source": [
    "import requests\n",
    "from spot import *\n",
    "from config import *\n",
    "import pprint\n",
    "import praw\n",
    "from datetime import datetime, timezone\n",
    "\n",
    "reddit = praw.Reddit(\n",
    "    client_id=CLIENT_ID,  # Found at the top of your app settings\n",
    "    client_secret=CLIENT_SECRET,  # The secret you see in the image\n",
    "    user_agent=\"python:ticker_skimmer:v1.0\",  # A short description (e.g., \"TickerSkimmer bot\")\n",
    "    read_only=True\n",
    ")\n",
    "\n",
    "pp = pprint.PrettyPrinter(indent=1)\n",
    "symbol = 'AAPL'\n",
    "\n",
    "url = f'https://www.alphavantage.co/query?function=TIME_SERIES_DAILY&symbol={symbol}&apikey={API_KEY}'\n",
    "\n",
    "r = requests.get(url)\n",
    "\n",
    "data = r.json()\n",
    "\n",
    "\n",
    "def get_posts():\n",
    "    subreddit = reddit.subreddit('wallstreetbets')\n",
    "\n",
    "    for post in subreddit.hot(limit=5):\n",
    "        post_date = datetime.fromtimestamp(post.created_utc, tz=timezone.utc).strftime('%Y-%m-%d %H:%M:%S')\n",
    "        print(f\"Title: {post.title}\")\n",
    "        print(f\"Body: {post.selftext}\")\n",
    "        print(post_date)\n",
    "        \n",
    "\n",
    "\n",
    "\n",
    "def main():\n",
    "    get_posts()\n",
    "\n",
    "\n",
    "if __name__ == '__main__':\n",
    "    main()\n"
   ]
  },
  {
   "cell_type": "code",
   "execution_count": 7,
   "metadata": {},
   "outputs": [],
   "source": [
    "watchlist = {\n",
    "    # 🔹 Big Tech & AI\n",
    "    \"AAPL\", \"MSFT\", \"GOOGL\", \"AMZN\", \"META\", \"TSLA\", \"NVDA\", \"IBM\", \"ORCL\",\n",
    "    \n",
    "    # 🔹 Semiconductors & Hardware\n",
    "    \"INTC\", \"AMD\", \"QCOM\", \"TXN\", \"MRVL\", \"SWKS\", \"ANET\", \"AVGO\", \"KLAC\", \"LRCX\",\n",
    "    \n",
    "    # 🔹 Cloud & Cybersecurity\n",
    "    \"CRM\", \"NOW\", \"WDAY\", \"DDOG\", \"SNOW\", \"PLTR\", \"PATH\", \"ZS\", \"PANW\", \"NET\", \"CRWD\", \"OKTA\",\n",
    "    \n",
    "    # 🔹 Finance & Banking\n",
    "    \"JPM\", \"BAC\", \"C\", \"GS\", \"MS\", \"WFC\", \"AXP\", \"PYPL\", \"SQ\", \"V\", \"MA\", \"INTU\", \"SOFI\",\n",
    "    \n",
    "    # 🔹 Healthcare & Biotech\n",
    "    \"JNJ\", \"PFE\", \"MRNA\", \"BNTX\", \"LLY\", \"VRTX\", \"REGN\", \"BIIB\", \"DNA\", \"ILMN\", \"TMO\", \"ISRG\", \"UNH\", \"HCA\",\n",
    "    \n",
    "    # 🔹 Energy & Utilities\n",
    "    \"XOM\", \"CVX\", \"OXY\", \"COP\", \"BP\", \"ENPH\", \"PLUG\", \"BE\", \"FSLR\", \"NEE\", \"DUK\", \"SO\",\n",
    "    \n",
    "    # 🔹 Consumer Goods & Retail\n",
    "    \"PG\", \"KO\", \"PEP\", \"MCD\", \"SBUX\", \"NKE\", \"LULU\", \"TGT\", \"WMT\", \"COST\", \"HD\", \"LOW\", \"DG\",\n",
    "    \n",
    "    # 🔹 Automotive & Transportation\n",
    "    \"F\", \"GM\", \"RIVN\", \"LCID\", \"HMC\", \"TM\", \"NIO\", \"UPS\", \"FDX\", \"DAL\", \"UAL\", \"BA\",\n",
    "    \n",
    "    # 🔹 Industrial & Manufacturing\n",
    "    \"CAT\", \"DE\", \"HON\", \"GE\", \"MMM\", \"EMR\", \"LMT\", \"RTX\", \"NOC\", \"GD\", \"TSCO\",\n",
    "    \n",
    "    # 🔹 Media, Entertainment, & Gaming\n",
    "    \"NFLX\", \"DIS\", \"WBD\", \"SPOT\", \"TTWO\", \"ATVI\", \"EA\", \"ROKU\", \"PARA\",\n",
    "    \n",
    "    # 🔹 Real Estate & REITs\n",
    "    \"SPG\", \"PLD\", \"O\", \"EQR\", \"AVB\", \"AMT\", \"CCI\",\n",
    "    \n",
    "    # 🔹 Airlines, Cruises, & Travel\n",
    "    \"AAL\", \"DAL\", \"UAL\", \"LUV\", \"CCL\", \"RCL\", \"NCLH\", \"ABNB\", \"MAR\", \"HLT\",\n",
    "    \n",
    "    # 🔹 Major ETFs (Broader Market Tracking)\n",
    "    \"SPY\", \"QQQ\", \"ARKK\", \"VTI\", \"VOO\", \"XLF\", \"XLK\", \"XLE\", \"XLV\", \"XLY\", \"XLC\",\n",
    "    \n",
    "    # 🔹 Commodities & Materials\n",
    "    \"GLD\",  # Gold ETF\n",
    "    \"SLV\",  # Silver ETF\n",
    "    \"USO\",  # Oil ETF\n",
    "    \"BHP\",  # BHP Group (Mining)\n",
    "    \"RIO\",  # Rio Tinto (Metals & Mining)\n",
    "    \"NEM\",  # Newmont (Gold Mining)\n",
    "    \"FCX\",  # Freeport-McMoRan (Copper & Gold)\n",
    "}"
   ]
  },
  {
   "cell_type": "code",
   "execution_count": 12,
   "metadata": {},
   "outputs": [
    {
     "name": "stdout",
     "output_type": "stream",
     "text": [
      "Jenil Shingala\n",
      "JENIL SHINGALA\n"
     ]
    }
   ],
   "source": [
    "print('Jenil Shingala')\n",
    "print(\"JENIL SHINGALA\")"
   ]
  },
  {
   "cell_type": "code",
   "execution_count": 22,
   "metadata": {},
   "outputs": [
    {
     "name": "stdout",
     "output_type": "stream",
     "text": [
      "Opearting system that are the \n"
     ]
    }
   ],
   "source": [
    "print(\"Opearting system that are the \")"
   ]
  },
  {
   "cell_type": "code",
   "execution_count": null,
   "metadata": {},
   "outputs": [],
   "source": [
    "print(\"The main reason for the input \")"
   ]
  }
 ],
 "metadata": {
  "kernelspec": {
   "display_name": "base",
   "language": "python",
   "name": "python3"
  },
  "language_info": {
   "codemirror_mode": {
    "name": "ipython",
    "version": 3
   },
   "file_extension": ".py",
   "mimetype": "text/x-python",
   "name": "python",
   "nbconvert_exporter": "python",
   "pygments_lexer": "ipython3",
   "version": "3.12.4"
  }
 },
 "nbformat": 4,
 "nbformat_minor": 2
}
